{
 "cells": [
  {
   "cell_type": "code",
   "execution_count": 2,
   "id": "25a384ca-e251-4cb6-8157-dce7d9bd6432",
   "metadata": {},
   "outputs": [
    {
     "name": "stdout",
     "output_type": "stream",
     "text": [
      "Sorted by part description: [(83, 'Electric sander', 7, 57.98), (77, 'Hammer', 76, 11.99), (39, 'Jig saw', 3, 79.5), (24, 'Power saw', 18, 99.99), (7, 'Sledge hammer', 11, 21.5)]\n",
      "Sorted by price: [(77, 'Hammer', 76, 11.99), (7, 'Sledge hammer', 11, 21.5), (83, 'Electric sander', 7, 57.98), (39, 'Jig saw', 3, 79.5), (24, 'Power saw', 18, 99.99)]\n",
      "Mapped by description and quantity: [('Jig saw', 3), ('Electric sander', 7), ('Sledge hammer', 11), ('Power saw', 18), ('Hammer', 76)]\n",
      "Mapped by total price: [('Sledge hammer', 11, 236.5), ('Jig saw', 3, 238.5), ('Electric sander', 7, 405.85999999999996), ('Hammer', 76, 911.24), ('Power saw', 18, 1799.82)]\n",
      "Filtered invoices (total price between $200 and $500): [('Sledge hammer', 11, 236.5), ('Jig saw', 3, 238.5), ('Electric sander', 7, 405.85999999999996)]\n",
      "Total value of all invoices: 3591.92\n"
     ]
    }
   ],
   "source": [
    "# Exercise 5.15 by sriman\n",
    "# Import the itemgetter function to help with sorting\n",
    "from operator import itemgetter\n",
    "\n",
    "# List of tuples representing hardware store invoices\n",
    "invoices = [\n",
    "    (83, \"Electric sander\", 7, 57.98),\n",
    "    (24, \"Power saw\", 18, 99.99),\n",
    "    (7, \"Sledge hammer\", 11, 21.50),\n",
    "    (77, \"Hammer\", 76, 11.99),\n",
    "    (39, \"Jig saw\", 3, 79.50)\n",
    "]\n",
    "\n",
    "# Task a) Sort the invoices by part description (which is at index 1)\n",
    "sorted_by_description = sorted(invoices, key=itemgetter(1))\n",
    "print(\"Sorted by part description:\", sorted_by_description)\n",
    "\n",
    "# Task b) Sort the invoices by price (which is at index 3)\n",
    "sorted_by_price = sorted(invoices, key=itemgetter(3))\n",
    "print(\"Sorted by price:\", sorted_by_price)\n",
    "\n",
    "# Task c) Create a tuple of part description and quantity, then sort by quantity\n",
    "mapped_quantity = sorted([(desc, qty) for part, desc, qty, price in invoices], key=itemgetter(1))\n",
    "print(\"Mapped by description and quantity:\", mapped_quantity)\n",
    "\n",
    "# Task d) Map each invoice to a tuple that includes part description, quantity, and total price\n",
    "mapped_total_price = sorted([(desc, qty, qty * price) for part, desc, qty, price in invoices], key=itemgetter(2))\n",
    "print(\"Mapped by total price:\", mapped_total_price)\n",
    "\n",
    "# Task e) Filter to show only invoices where the total price is between $200 and $500\n",
    "filtered_invoices = [invoice for invoice in mapped_total_price if 200 <= invoice[2] <= 500]\n",
    "print(\"Filtered invoices (total price between $200 and $500):\", filtered_invoices)\n",
    "\n",
    "# Task f) Calculate the total of all invoice amounts (quantity * price for each item)\n",
    "total_value = sum(qty * price for part, desc, qty, price in invoices)\n",
    "print(\"Total value of all invoices:\", total_value)\n"
   ]
  },
  {
   "cell_type": "code",
   "execution_count": null,
   "id": "061d21b4-aed5-457f-9e47-19f28e268684",
   "metadata": {},
   "outputs": [],
   "source": []
  }
 ],
 "metadata": {
  "kernelspec": {
   "display_name": "Python 3 (ipykernel)",
   "language": "python",
   "name": "python3"
  },
  "language_info": {
   "codemirror_mode": {
    "name": "ipython",
    "version": 3
   },
   "file_extension": ".py",
   "mimetype": "text/x-python",
   "name": "python",
   "nbconvert_exporter": "python",
   "pygments_lexer": "ipython3",
   "version": "3.12.4"
  }
 },
 "nbformat": 4,
 "nbformat_minor": 5
}
